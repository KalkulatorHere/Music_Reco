{
  "nbformat": 4,
  "nbformat_minor": 0,
  "metadata": {
    "colab": {
      "provenance": []
    },
    "kernelspec": {
      "name": "python3",
      "display_name": "Python 3"
    },
    "language_info": {
      "name": "python"
    }
  },
  "cells": [
    {
      "cell_type": "markdown",
      "source": [
        "#Music Recommendation System\n",
        "##Introduction:\n",
        "Based on the textual content of song lyrics, this music recommendation system will suggest songs. It uses machine learning and Natural Language Processing (NLP) techniques to find songs with similar lyrics and introduce music lovers to new songs they might like.\n",
        "The dataset used for this project is \"Songs Recommendation Dataset\n",
        "\" available on kaggle(https://www.kaggle.com/datasets/noorsaeed/songs-recommendation-dataset/)"
      ],
      "metadata": {
        "id": "h4ik2W-hDb-z"
      }
    },
    {
      "cell_type": "markdown",
      "source": [
        "##Use:\n",
        "Users can input the name of a song they like, and the system will provide a list of 20 recommended songs based on textual similarity in the lyrics. The recommendations are generated using TF-IDF vectorization and cosine similarity, making it a valuable tool for discovering new music."
      ],
      "metadata": {
        "id": "v97dem7DcBYK"
      }
    },
    {
      "cell_type": "code",
      "source": [
        "import pandas as pd\n",
        "import numpy as np\n",
        "import nltk\n",
        "from nltk.stem.porter import PorterStemmer\n",
        "from sklearn.feature_extraction.text import TfidfVectorizer\n",
        "from sklearn.metrics.pairwise import cosine_similarity\n"
      ],
      "metadata": {
        "id": "AihkImwI7hdj"
      },
      "execution_count": null,
      "outputs": []
    },
    {
      "cell_type": "markdown",
      "source": [
        "* It begins by reading a song dataset from a CSV file containing song information.\n",
        "* Randomly selects and resets the index of 5000 rows for further analysis.\n",
        "\n",
        "\n",
        "\n",
        "\n",
        "\n"
      ],
      "metadata": {
        "id": "VR6xbzfTEriP"
      }
    },
    {
      "cell_type": "code",
      "source": [
        "\n",
        "df = pd.read_csv('songdata.csv')\n",
        "\n",
        "\n",
        "df = df.sample(n=5000).reset_index(drop=True)\n"
      ],
      "metadata": {
        "id": "93i0RufM9LtZ"
      },
      "execution_count": null,
      "outputs": []
    },
    {
      "cell_type": "markdown",
      "source": [
        "* Standardizes the text data for processing by converting it to lowercase and removing special characters."
      ],
      "metadata": {
        "id": "rOuwFp_1agnF"
      }
    },
    {
      "cell_type": "code",
      "source": [
        "\n",
        "#standardizing the text data for processing\n",
        "df['text'] = df['text'].str.lower().replace(r'[^\\w\\s]', '').replace(r'\\n', ' ', regex=True)\n",
        "df.head(2)"
      ],
      "metadata": {
        "id": "4Dp0WI3Q9M-1"
      },
      "execution_count": null,
      "outputs": []
    },
    {
      "cell_type": "markdown",
      "source": [
        "A Porter Stemmer is initialized in the first line. In the following function, called \"tokenization,\" text input is tokenized into words, and each word is stemmed using the Porter Stemmer. The function returns the stemmed words as a single string, effectively reducing words to their root forms."
      ],
      "metadata": {
        "id": "mWgGzPC3E8Km"
      }
    },
    {
      "cell_type": "code",
      "source": [
        "\n",
        "\n",
        "stemmer = PorterStemmer()\n",
        "\n",
        "\n",
        "def tokenization(txt):\n",
        "    tokens = nltk.word_tokenize(txt)\n",
        "    stemming = [stemmer.stem(w) for w in tokens]\n",
        "    return \" \".join(stemming)"
      ],
      "metadata": {
        "id": "xEWrHGr-9O0Q"
      },
      "execution_count": null,
      "outputs": []
    },
    {
      "cell_type": "markdown",
      "source": [
        "download the NLTK 'punkt' dataset for tokenization. Then, it applies the \"tokenization\" function to each element in the 'text' column of the DataFrame 'df.' This function tokenizes and stems the text, essentially preprocessing it for further analysis."
      ],
      "metadata": {
        "id": "5b3G5OCMFFu4"
      }
    },
    {
      "cell_type": "code",
      "source": [
        "\n",
        "\n",
        "\n",
        "nltk.download('punkt')\n",
        "df['text'] = df['text'].apply(lambda x: tokenization(x))"
      ],
      "metadata": {
        "id": "_52LQImGCqIF"
      },
      "execution_count": null,
      "outputs": []
    },
    {
      "cell_type": "markdown",
      "source": [
        "* It creates a TF-IDF (Term Frequency-Inverse Document Frequency) vectorizer using scikit-learn.\n",
        "* The vectorizer processes the 'text' data in the DataFrame, treating it as a bag of words with English stop words removed.\n",
        "* Computes the cosine similarity between the TF-IDF vectors for the song lyrics.\n",
        "* This similarity matrix is used for text similarity calculations, which serve as the basis for song recommendations."
      ],
      "metadata": {
        "id": "iM710vATFOXW"
      }
    },
    {
      "cell_type": "code",
      "source": [
        "\n",
        "\n",
        "\n",
        "tfidvector = TfidfVectorizer(analyzer='word', stop_words='english')\n",
        "matrix = tfidvector.fit_transform(df['text'])\n",
        "similarity = cosine_similarity(matrix)\n"
      ],
      "metadata": {
        "id": "mx6i9IbBCtnh"
      },
      "execution_count": null,
      "outputs": []
    },
    {
      "cell_type": "markdown",
      "source": [
        "* It checks for rows in the DataFrame where the 'song' column is empty or equal to an empty string.\n",
        "* If matching rows are found, it extracts the index of the first matching row, providing insights into data quality.\n",
        "* If no matching rows are found, it prints a message confirming that there are no empty 'song' values."
      ],
      "metadata": {
        "id": "HA3M_xKAFXDy"
      }
    },
    {
      "cell_type": "code",
      "source": [
        "\n",
        "\n",
        "empty_song_rows = df[df['song'] == '']\n",
        "if not empty_song_rows.empty:\n",
        "\n",
        "    empty_song_index = empty_song_rows.index[0]\n",
        "    print(\"Index of the first empty 'song':\", empty_song_index)\n",
        "else:\n",
        "\n",
        "    print(\"No rows with 'song' equal to '' were found.\")"
      ],
      "metadata": {
        "id": "Wm70jRusCuxH"
      },
      "execution_count": null,
      "outputs": []
    },
    {
      "cell_type": "markdown",
      "source": [
        "## Recommendation Function:\n",
        "\n",
        "* The core functionality of the recommendation system is encapsulated in a function called \"recommendation.\"\n",
        "* When given the name of a song, this function finds songs with lyrics similar to the input song.\n",
        "* It identifies the index of the input song in the DataFrame, computes the similarity of the input song with other songs, and returns a list of the top 20 recommended songs based on similarity."
      ],
      "metadata": {
        "id": "6bPN1c3mbRrW"
      }
    },
    {
      "cell_type": "code",
      "source": [
        "#recommendation function\n",
        "def recommendation(song_df):\n",
        "    idx = df[df['song'] == song_df].index[0]\n",
        "    distances = sorted(list(enumerate(similarity[idx])),reverse=True,key=lambda x:x[1])\n",
        "\n",
        "    songs = []\n",
        "    for m_id in distances[1:21]:\n",
        "        songs.append(df.iloc[m_id[0]].song)\n",
        "\n",
        "    return songs\n"
      ],
      "metadata": {
        "id": "fQ3P1zEKCx9I"
      },
      "execution_count": null,
      "outputs": []
    },
    {
      "cell_type": "markdown",
      "source": [
        "##Creating the Gradio Interface:\n",
        "\n",
        "* The system uses Gradio, an open-source Python library for creating user interfaces, to make the recommendation system accessible.\n",
        "* Sets up a Gradio interface that takes a song name as input and returns a list of recommended songs as output.\n",
        "* It employs a compact theme with a specified title and description.\n",
        "* Additional CSS styling is applied to limit the maximum height of the output.\n"
      ],
      "metadata": {
        "id": "wfesdgLVFhdf"
      }
    },
    {
      "cell_type": "code",
      "source": [
        "!pip install gradio\n",
        "import gradio as gr\n",
        "iface = gr.Interface(\n",
        "    fn=recommendation,\n",
        "    inputs=\"text\",\n",
        "    outputs=\"text\",\n",
        "    live=True,\n",
        "    theme=\"compact\",\n",
        "    title=\"Song Recommender\",\n",
        "    description=\"Enter a song name to get recommendations\",\n",
        "    css=\"\"\".output {max-height: 400px;}\"\"\",\n",
        ")\n",
        "\n",
        "iface.launch()"
      ],
      "metadata": {
        "id": "ZR8KfHCYBakg"
      },
      "execution_count": null,
      "outputs": []
    },
    {
      "cell_type": "markdown",
      "source": [
        "##Conclusion:\n",
        "This Music Recommendation System combines data preprocessing, text processing, and machine learning to offer personalized song recommendations. The Gradio interface makes it user-friendly and accessible to music enthusiasts, providing them with a novel way to explore music based on their preferences."
      ],
      "metadata": {
        "id": "UOaB15t7b2uM"
      }
    }
  ]
}